{
 "cells": [
  {
   "cell_type": "code",
   "execution_count": 14,
   "metadata": {},
   "outputs": [],
   "source": [
    "import os\n",
    "import pandas as pd\n",
    "import json\n",
    "\n",
    "# Function to convert JSON files in a directory to a single Excel file\n",
    "def json_to_excel(directory):\n",
    "    # Dictionary to hold data\n",
    "    data = {}\n",
    "    \n",
    "    # List all files in the given directory\n",
    "    for file_name in os.listdir(directory):\n",
    "        # Check if the file is a JSON file and ends with number 5 (e.g. year_5.json)\n",
    "        if file_name.endswith('.json') and file_name[-7] == '5':\n",
    "            # Construct full file path\n",
    "            file_path = os.path.join(directory, file_name)\n",
    "            # Read the JSON file\n",
    "            with open(file_path, 'r') as json_file:\n",
    "                file_data = json.load(json_file)\n",
    "                # Use the file name (without extension) as the column header\n",
    "                column_name = os.path.splitext(file_name)[0]\n",
    "                # Add data to the dictionary\n",
    "                data[column_name] = file_data\n",
    "                \n",
    "    # Create a DataFrame from the dictionary, where keys are columns and values are rows\n",
    "    df = pd.DataFrame.from_dict(data, orient='index')\n",
    "    \n",
    "    # Transpose the DataFrame to match the desired format\n",
    "    df = df.transpose()\n",
    "    \n",
    "    # Convert the DataFrame to an Excel file\n",
    "    excel_path = os.path.join(directory, 'results.xlsx')\n",
    "    df.to_excel(excel_path)\n",
    "    \n",
    "    return excel_path"
   ]
  },
  {
   "cell_type": "code",
   "execution_count": 15,
   "metadata": {},
   "outputs": [
    {
     "data": {
      "text/plain": [
       "'./results/grid_connected\\\\results_grid.xlsx'"
      ]
     },
     "execution_count": 15,
     "metadata": {},
     "output_type": "execute_result"
    }
   ],
   "source": [
    "# os.listdir('./results/grid_connected')\n",
    "json_to_excel('./results/')\n",
    "json_to_excel('./results/grid_connected')"
   ]
  }
 ],
 "metadata": {
  "kernelspec": {
   "display_name": "Python 3",
   "language": "python",
   "name": "python3"
  },
  "language_info": {
   "codemirror_mode": {
    "name": "ipython",
    "version": 3
   },
   "file_extension": ".py",
   "mimetype": "text/x-python",
   "name": "python",
   "nbconvert_exporter": "python",
   "pygments_lexer": "ipython3",
   "version": "3.9.5"
  }
 },
 "nbformat": 4,
 "nbformat_minor": 2
}
